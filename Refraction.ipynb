{
 "cells": [
  {
   "cell_type": "markdown",
   "id": "functioning-profession",
   "metadata": {},
   "source": [
    "<h1>Welcome to the Refraction Simulation!</h1>"
   ]
  },
  {
   "cell_type": "code",
   "execution_count": 1,
   "id": "bottom-favorite",
   "metadata": {},
   "outputs": [
    {
     "data": {
      "text/html": [
       "<div id=\"glowscript\" class=\"glowscript\"></div>"
      ],
      "text/plain": [
       "<IPython.core.display.HTML object>"
      ]
     },
     "metadata": {},
     "output_type": "display_data"
    },
    {
     "data": {
      "application/javascript": [
       "if (typeof Jupyter !== \"undefined\") { window.__context = { glowscript_container: $(\"#glowscript\").removeAttr(\"id\")};}else{ element.textContent = ' ';}"
      ],
      "text/plain": [
       "<IPython.core.display.Javascript object>"
      ]
     },
     "metadata": {},
     "output_type": "display_data"
    },
    {
     "data": {
      "text/html": [
       "<div id=\"glowscript\" class=\"glowscript\"></div>"
      ],
      "text/plain": [
       "<IPython.core.display.HTML object>"
      ]
     },
     "metadata": {},
     "output_type": "display_data"
    },
    {
     "data": {
      "application/javascript": [
       "if (typeof Jupyter !== \"undefined\") { window.__context = { glowscript_container: $(\"#glowscript\").removeAttr(\"id\")};}else{ element.textContent = ' ';}"
      ],
      "text/plain": [
       "<IPython.core.display.Javascript object>"
      ]
     },
     "metadata": {},
     "output_type": "display_data"
    },
    {
     "data": {
      "application/javascript": [
       "if (typeof Jupyter !== \"undefined\") {require.undef(\"nbextensions/vpython_libraries/glow.min\");}else{element.textContent = ' ';}"
      ],
      "text/plain": [
       "<IPython.core.display.Javascript object>"
      ]
     },
     "metadata": {},
     "output_type": "display_data"
    },
    {
     "data": {
      "application/javascript": [
       "if (typeof Jupyter !== \"undefined\") {require.undef(\"nbextensions/vpython_libraries/glowcomm\");}else{element.textContent = ' ';}"
      ],
      "text/plain": [
       "<IPython.core.display.Javascript object>"
      ]
     },
     "metadata": {},
     "output_type": "display_data"
    },
    {
     "data": {
      "application/javascript": [
       "if (typeof Jupyter !== \"undefined\") {require.undef(\"nbextensions/vpython_libraries/jquery-ui.custom.min\");}else{element.textContent = ' ';}"
      ],
      "text/plain": [
       "<IPython.core.display.Javascript object>"
      ]
     },
     "metadata": {},
     "output_type": "display_data"
    },
    {
     "data": {
      "application/javascript": [
       "if (typeof Jupyter !== \"undefined\") {require([\"nbextensions/vpython_libraries/glow.min\"], function(){console.log(\"GLOW LOADED\");});}else{element.textContent = ' ';}"
      ],
      "text/plain": [
       "<IPython.core.display.Javascript object>"
      ]
     },
     "metadata": {},
     "output_type": "display_data"
    },
    {
     "data": {
      "application/javascript": [
       "if (typeof Jupyter !== \"undefined\") {require([\"nbextensions/vpython_libraries/glowcomm\"], function(){console.log(\"GLOWCOMM LOADED\");});}else{element.textContent = ' ';}"
      ],
      "text/plain": [
       "<IPython.core.display.Javascript object>"
      ]
     },
     "metadata": {},
     "output_type": "display_data"
    },
    {
     "data": {
      "application/javascript": [
       "if (typeof Jupyter !== \"undefined\") {require([\"nbextensions/vpython_libraries/jquery-ui.custom.min\"], function(){console.log(\"JQUERY LOADED\");});}else{element.textContent = ' ';}"
      ],
      "text/plain": [
       "<IPython.core.display.Javascript object>"
      ]
     },
     "metadata": {},
     "output_type": "display_data"
    },
    {
     "name": "stdout",
     "output_type": "stream",
     "text": [
      "True (Incident, Reflected): (38, 28)\n"
     ]
    }
   ],
   "source": [
    "# THESE ARE JUST LIBRARIES\n",
    "from vpython import *\n",
    "from scipy.optimize import fsolve\n",
    "import warnings\n",
    "\n",
    "warnings.filterwarnings('ignore', 'The iteration is not making good progress')\n",
    "\n",
    "# SETS UP RENDERING SPACE\n",
    "scene = canvas(background=color.white)\n",
    "scene.center = vec(0,-2,0)\n",
    "scene.userzoom = False\n",
    "scene.userspin = False\n",
    "\n",
    "# SECOND MEDIUM\n",
    "water = box (size = vector(10,10,1),pos = vector(0,-7,0), color = vector(0,1,1), opacity = 0.6)\n",
    "\n",
    "# FUNCTION WHOSE ARGUMENT IS REFRACTIVE INDEX\n",
    "def refraction(refIndex):\n",
    "\n",
    "    # STORES BOUNDARY CONDITIONS\n",
    "    coords = []\n",
    "    \n",
    "    # ENABLES USER-DEFINED BOUNDARY CONDITIONS\n",
    "    def showSphere(evt):\n",
    "        loc = evt.pos\n",
    "        point = sphere(pos=loc, color=color.cyan)\n",
    "        coords.append(point.pos)\n",
    "\n",
    "    scene.bind('click', showSphere)\n",
    "\n",
    "    while len(coords)<2:\n",
    "        rate(5)\n",
    "\n",
    "    scene.unbind('click', showSphere)\n",
    "    \n",
    "    v1 = coords[0]\n",
    "    v2 = vector(7,-2,.5)\n",
    "\n",
    "    incRef = vec(0,-1,0)\n",
    "    refRef = vec(0,1,0)\n",
    "\n",
    "    # CREATES GRAPHS OF INCIDENCE ANGLE, REFRACTOIN ANGLE, ACTION, AND TIME\n",
    "    tgraph=graph(title = 'Trajectory', xtitle=\"Angle [Deg]\", ytitle=\"Light Time [s]\", fast=False, width=600, height=400)\n",
    "    f1=gcurve(graph = tgraph, color=color.blue, label = 'Incident', legend = True, markers = True, marker_color = color.blue)\n",
    "    f2=gcurve(graph = tgraph, color=color.green, label = 'Refracted', legend = True, markers = True, marker_color = color.green)\n",
    "    f3=gdots(graph = tgraph, label = 'True Incident', legend = True, radius = 6, color = color.red)\n",
    "    f4=gdots(graph = tgraph, label = 'True Refracted', legend = True, radius = 6,color = color.orange)\n",
    "    ngraph=graph(title = 'Path of Least Action', xtitle=\"sin(Incident) : sin(Refracted)\", ytitle=\"Action\", fast=False, width=600, height=400)\n",
    "    f5=gcurve(graph = ngraph, color=color.red, label = 'Action', legend = True, markers = True, marker_color = color.red)\n",
    "\n",
    "    # CONSTANTS\n",
    "    t = 0\n",
    "    dt = 0.01\n",
    "    m = 4.41e-36\n",
    "    KE = 0.5 * m * (3*(10**8))**2\n",
    "    light = 3\n",
    "    \n",
    "    # THE RANGE OF THE FOR LOOP IS DETERMINED BY THE WIDTH OF THE MEDIUM\n",
    "    for i in range(-5,6):\n",
    "        rate(50)\n",
    "\n",
    "        # THIS ITERATES THE HORIZONTAL POSITION OF THE LIGHT RAY        \n",
    "        v2.x = i\n",
    "        c = curve(pos = [v1,v2], radius = 0.1)\n",
    "        c.append(pos=coords[1], color=color.blue)\n",
    "\n",
    "        # USES diff_angle() METHOD TO CALCULATE INCIDENCE & REFRACTION ANGLES\n",
    "        incident = degrees(diff_angle(incRef,v2-v1))\n",
    "        refracted = degrees(pi - diff_angle(refRef,coords[1]-v2))\n",
    "        \n",
    "        # USES OPTIMIZATION FUNCTION FORMULA TO CALCULATE TIME FOR PATH \n",
    "        t = ( mag(v2-v1) ) / (light) + ( mag(coords[1]-v2) ) / (light/refIndex) \n",
    "        action = KE * (t * 3)\n",
    "        \n",
    "        # PLOTS PARAMETERS\n",
    "        f1.plot(incident,t)\n",
    "        f2.plot(refracted,t)\n",
    "        f5.plot(sin(radians(incident))/sin(radians(refracted)),action)\n",
    "    \n",
    "    # PARAMETERS OF THE OPTIMIZATION FUNCTION THAT RESULTS IN REFRACTION\n",
    "    y1 = coords[0].y + 2\n",
    "    y2 = coords[1].y + 2\n",
    "    L = coords[1].x-coords[0].x\n",
    "\n",
    "    # USES SCIPY TO SOLVE OPTIMIZATION FUNCTION\n",
    "    def f(z):\n",
    "        return ( (sqrt( y1 ** 2 + z ** 2) / light) + (sqrt( y2 ** 2 + (L-z) ** 2 ) / (light/refIndex) ) )\n",
    "     \n",
    "    # RANDOM GUESS FOR SCIPY\n",
    "    x0 = 1.0\n",
    "    x = fsolve(f,x0)\n",
    "    \n",
    "    # THE HITPOINT IS DETERMINED BY THE SOLUTION TO THE OPTIMIZATION FUNCTION\n",
    "    hitpoint = vec( coords[0].x+x , -2, 0)\n",
    "    d = curve(pos = [v1,hitpoint], radius = 0.2, color = color.red)\n",
    "    d.append(pos = coords[1], color = color.red)\n",
    "    \n",
    "    # CALCULATES INCIDENCE ANGLE & REFRACTED ANGLE & TIME\n",
    "    true_incident = degrees(diff_angle(incRef,hitpoint-v1))\n",
    "    true_refracted = degrees(pi - diff_angle(refRef,coords[1]-hitpoint))\n",
    "    true_time = ( mag(hitpoint-v1)  / (light)) + ( mag(coords[1]-hitpoint)) / (light/refIndex)\n",
    "    \n",
    "    # PLOTS PARAMETERS\n",
    "    f3.plot(true_incident,true_time)\n",
    "    f4.plot(true_refracted,true_time)\n",
    "\n",
    "    # PARAMETERS FOR PATH OF LEAST TIME & ACTION\n",
    "    print(\"True (Incident, Reflected): (\"+ str(round(true_incident)) + \", \"+str(round(true_refracted))+\")\")\n",
    "            \n",
    "# TRY CHANGING THE REFRACTIVE INDEX ARGUMENT!\n",
    "refraction(1.33)"
   ]
  },
  {
   "cell_type": "markdown",
   "id": "grave-proposition",
   "metadata": {},
   "source": [
    "<h3><mark style = \"background: #ed462f; color: white;\">Please wait. The simulation is loading.</mark> </h3>\n",
    "    \n",
    "You will see a blue water tank. Click above it to create the first endpoint. Click inside it to create the second endpoint."
   ]
  }
 ],
 "metadata": {
  "kernelspec": {
   "display_name": "Python 3 (ipykernel)",
   "language": "python",
   "name": "python3"
  },
  "language_info": {
   "codemirror_mode": {
    "name": "ipython",
    "version": 3
   },
   "file_extension": ".py",
   "mimetype": "text/x-python",
   "name": "python",
   "nbconvert_exporter": "python",
   "pygments_lexer": "ipython3",
   "version": "3.7.12"
  }
 },
 "nbformat": 4,
 "nbformat_minor": 5
}
